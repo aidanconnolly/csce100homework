{
 "cells": [
  {
   "cell_type": "markdown",
   "metadata": {},
   "source": [
    "# Chutes and Ladders\n",
    "\n",
    "The assignment:\n",
    ">Write a program that plays Chutes and Ladders. Your program must:  \n",
    "1. Use a dictionary to keep track of where players are on the board.  \n",
    "2. Use a function to spin the wheel.  \n",
    "3. Use a function to move a player.  \n",
    "4. Correctly determine the winner, taking note of Chutes and Ladders rule on landing\n",
    "directly on square 100.  \n",
    "5. Print to the screen important information to keep track of the game, including who\n",
    "won.\n",
    "\n",
    "First, import the necessary libraries."
   ]
  },
  {
   "cell_type": "code",
   "execution_count": 1,
   "metadata": {
    "collapsed": true
   },
   "outputs": [],
   "source": [
    "import random"
   ]
  },
  {
   "cell_type": "markdown",
   "metadata": {},
   "source": [
    "Here, we set the `winner` variable to `False` for the while loop later."
   ]
  },
  {
   "cell_type": "code",
   "execution_count": 2,
   "metadata": {
    "collapsed": true
   },
   "outputs": [],
   "source": [
    "winner = False"
   ]
  },
  {
   "cell_type": "markdown",
   "metadata": {},
   "source": [
    "Next, create a dictionary to keep track of the players and their locations on the board."
   ]
  },
  {
   "cell_type": "code",
   "execution_count": 3,
   "metadata": {
    "collapsed": true
   },
   "outputs": [],
   "source": [
    "players = {\"player1\": 0, \"player2\": 0, \"player3\": 0, \"player4\": 0}"
   ]
  },
  {
   "cell_type": "markdown",
   "metadata": {},
   "source": [
    "The `spinner` function simply returns a random integer between 1 and 6 inclusive."
   ]
  },
  {
   "cell_type": "code",
   "execution_count": 4,
   "metadata": {
    "collapsed": true
   },
   "outputs": [],
   "source": [
    "def spinner():\n",
    "    return random.randint(1,6)"
   ]
  },
  {
   "cell_type": "markdown",
   "metadata": {},
   "source": [
    "The `move` function takes in a player's location as `location` and then gets a spin amount from the `spinner` function and saves it to `spin`.  \n",
    "It adds the two together and checks the result against a list of chute and ladder positions. If the player would land on one of these positions, it adjusts the final position accordingly.  \n",
    "Also, if the spin would move the player past square 100, the player does not move."
   ]
  },
  {
   "cell_type": "code",
   "execution_count": 5,
   "metadata": {
    "collapsed": true
   },
   "outputs": [],
   "source": [
    "def move(location):\n",
    "    spin = spinner()\n",
    "    playermove = location + spin\n",
    "\n",
    "    if playermove == 1:\n",
    "        playermove = 38\n",
    "    elif playermove == 4:\n",
    "        playermove = 14\n",
    "    elif playermove == 9:\n",
    "        playermove = 31\n",
    "    elif playermove == 16:\n",
    "        playermove = 6\n",
    "    elif playermove == 21:\n",
    "        playermove = 42\n",
    "    elif playermove == 28:\n",
    "        playermove = 84\n",
    "    elif playermove == 36:\n",
    "        playermove = 44\n",
    "    elif playermove == 48:\n",
    "        playermove = 26\n",
    "    elif playermove == 49:\n",
    "        playermove = 11\n",
    "    elif playermove == 51:\n",
    "        playermove = 67\n",
    "    elif playermove == 56:\n",
    "        playermove = 53\n",
    "    elif playermove == 62:\n",
    "        playermove = 19\n",
    "    elif playermove == 65:\n",
    "        playermove = 60\n",
    "    elif playermove == 71:\n",
    "        playermove = 91\n",
    "    elif playermove == 80:\n",
    "        playermove = 100\n",
    "    elif playermove == 87:\n",
    "        playermove = 24\n",
    "    elif playermove == 93:\n",
    "        playermove = 73\n",
    "    elif playermove == 95:\n",
    "        playermove = 75\n",
    "    elif playermove == 98:\n",
    "        playermove = 78\n",
    "    elif playermove > 100:\n",
    "        playermove = location\n",
    "        \n",
    "    return playermove"
   ]
  },
  {
   "cell_type": "markdown",
   "metadata": {},
   "source": [
    "Here is where the game is played. For each player in the dictionary `players`, the `move` function is called and the player's location is updated. The move is printed to the screen.  \n",
    "Then, if a player lands on square 100, it changes `winner` to `True`, ending the loop."
   ]
  },
  {
   "cell_type": "code",
   "execution_count": 6,
   "metadata": {
    "collapsed": false,
    "scrolled": true
   },
   "outputs": [
    {
     "name": "stdout",
     "output_type": "stream",
     "text": [
      "player1 moved to 2\n",
      "player4 moved to 5\n",
      "player2 moved to 5\n",
      "player3 moved to 5\n",
      "player1 moved to 6\n",
      "player4 moved to 8\n",
      "player2 moved to 8\n",
      "player3 moved to 31\n",
      "player1 moved to 8\n",
      "player4 moved to 12\n",
      "player2 moved to 12\n",
      "player3 moved to 34\n",
      "player1 moved to 10\n",
      "player4 moved to 13\n",
      "player2 moved to 15\n",
      "player3 moved to 40\n",
      "player1 moved to 13\n",
      "player4 moved to 17\n",
      "player2 moved to 20\n",
      "player3 moved to 43\n",
      "player1 moved to 14\n",
      "player4 moved to 19\n",
      "player2 moved to 22\n",
      "player3 moved to 46\n",
      "player1 moved to 19\n",
      "player4 moved to 24\n",
      "player2 moved to 27\n",
      "player3 moved to 67\n",
      "player1 moved to 25\n",
      "player4 moved to 84\n",
      "player2 moved to 84\n",
      "player3 moved to 91\n",
      "player1 moved to 26\n",
      "player4 moved to 24\n",
      "player2 moved to 85\n",
      "player3 moved to 96\n",
      "player1 moved to 84\n",
      "player4 moved to 25\n",
      "player2 moved to 24\n",
      "player3 moved to 96\n",
      "player1 moved to 24\n",
      "player4 moved to 29\n",
      "player2 moved to 26\n",
      "player3 moved to 99\n",
      "player1 moved to 30\n",
      "player4 moved to 34\n",
      "player2 moved to 29\n",
      "player3 moved to 99\n",
      "player1 moved to 32\n",
      "player4 moved to 37\n",
      "player2 moved to 30\n",
      "player3 moved to 100\n"
     ]
    }
   ],
   "source": [
    "while winner == False:\n",
    "    for player, location in players.items():\n",
    "        newLocation = move(location)\n",
    "        players[player] = newLocation\n",
    "        print(player, \"moved to\", players[player])\n",
    "        if newLocation == 100:\n",
    "            winner = True\n",
    "            break\n",
    "        else:\n",
    "            continue\n",
    "    \n"
   ]
  },
  {
   "cell_type": "code",
   "execution_count": null,
   "metadata": {
    "collapsed": true
   },
   "outputs": [],
   "source": []
  }
 ],
 "metadata": {
  "kernelspec": {
   "display_name": "Python 3",
   "language": "python",
   "name": "python3"
  },
  "language_info": {
   "codemirror_mode": {
    "name": "ipython",
    "version": 3
   },
   "file_extension": ".py",
   "mimetype": "text/x-python",
   "name": "python",
   "nbconvert_exporter": "python",
   "pygments_lexer": "ipython3",
   "version": "3.5.2"
  }
 },
 "nbformat": 4,
 "nbformat_minor": 0
}
