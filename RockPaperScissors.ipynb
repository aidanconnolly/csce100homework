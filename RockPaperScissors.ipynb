{
 "cells": [
  {
   "cell_type": "code",
   "execution_count": 1,
   "metadata": {
    "collapsed": true
   },
   "outputs": [],
   "source": [
    "import random\n",
    "\n",
    "weapons = [\"rock\", \"paper\", \"scissors\"]\n",
    "\n",
    "def choice():\n",
    "    return random.choice(weapons)\n",
    "\n",
    "player1 = choice()\n",
    "player2 = choice()\n",
    "\n",
    "print(\"Player 1 chose:\", player1)\n",
    "print(\"Player 2 chose:\", player2)\n",
    "\n",
    "if player1 == \"rock\" and player2 == \"scissors\":\n",
    "    print(\"Player 1 wins!\")\n",
    "elif player1 == \"scissors\" and player2 == \"paper\":\n",
    "    print(\"Player 1 wins!\")\n",
    "elif player1 == \"paper\" and player2 == \"rock\":\n",
    "    print(\"Player 1 wins!\")\n",
    "elif player2 == \"rock\" and player1 == \"scissors\":\n",
    "    print(\"Player 2 wins!\")\n",
    "elif player2 == \"scissors\" and player1 == \"paper\":\n",
    "    print(\"Player 2 wins!\")\n",
    "elif player2 == \"paper\" and player1 == \"rock\":\n",
    "    print(\"Player 2 wins!\")\n",
    "elif player1 == player2:\n",
    "    print(\"Draw!\")"
   ]
  },
  {
   "cell_type": "code",
   "execution_count": 5,
   "metadata": {
    "collapsed": false
   },
   "outputs": [],
   "source": [
    "player1 = None\n",
    "player2 = None"
   ]
  },
  {
   "cell_type": "code",
   "execution_count": 6,
   "metadata": {
    "collapsed": false
   },
   "outputs": [],
   "source": [
    "weapons = [\"rock\", \"paper\", \"scissors\"]"
   ]
  },
  {
   "cell_type": "code",
   "execution_count": 8,
   "metadata": {
    "collapsed": false
   },
   "outputs": [
    {
     "name": "stdout",
     "output_type": "stream",
     "text": [
      "Draw!\n"
     ]
    }
   ],
   "source": [
    "if player1 == \"rock\" and player2 == \"scissors\":\n",
    "    print(\"Player 1 wins!\")\n",
    "elif player1 == \"scissors\" and player2 == \"paper\":\n",
    "    print(\"Player 1 wins!\")\n",
    "elif player1 == \"paper\" and player2 == \"rock\":\n",
    "    print(\"Player 1 wins!\")\n",
    "elif player2 == \"rock\" and player1 == \"scissors\":\n",
    "    print(\"Player 2 wins!\")\n",
    "elif player2 == \"scissors\" and player1 == \"paper\":\n",
    "    print(\"Player 2 wins!\")\n",
    "elif player2 == \"paper\" and player1 == \"rock\":\n",
    "    print(\"Player 2 wins!\")\n",
    "elif player1 == player2:\n",
    "    print(\"Draw!\")"
   ]
  },
  {
   "cell_type": "code",
   "execution_count": 13,
   "metadata": {
    "collapsed": true
   },
   "outputs": [],
   "source": [
    "player1 = choice()\n",
    "player2 = choice()"
   ]
  },
  {
   "cell_type": "code",
   "execution_count": 12,
   "metadata": {
    "collapsed": false
   },
   "outputs": [],
   "source": [
    "def choice():\n",
    "    return random.choice(weapons)"
   ]
  },
  {
   "cell_type": "code",
   "execution_count": null,
   "metadata": {
    "collapsed": true
   },
   "outputs": [],
   "source": []
  }
 ],
 "metadata": {
  "kernelspec": {
   "display_name": "Python 3",
   "language": "python",
   "name": "python3"
  },
  "language_info": {
   "codemirror_mode": {
    "name": "ipython",
    "version": 3
   },
   "file_extension": ".py",
   "mimetype": "text/x-python",
   "name": "python",
   "nbconvert_exporter": "python",
   "pygments_lexer": "ipython3",
   "version": "3.5.2"
  }
 },
 "nbformat": 4,
 "nbformat_minor": 0
}
