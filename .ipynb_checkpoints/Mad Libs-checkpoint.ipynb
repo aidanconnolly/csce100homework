{
 "cells": [
  {
   "cell_type": "code",
   "execution_count": 1,
   "metadata": {
    "collapsed": false
   },
   "outputs": [
    {
     "name": "stdout",
     "output_type": "stream",
     "text": [
      "Please give an adverb.quickly\n",
      "Please give a noun.chair\n",
      "Please give a part of the body (plural).eyes\n",
      "Please give a part of the body (plural).ears\n",
      "Please give a noun.flower\n",
      "Please give an adjective.green\n",
      "Please give a noun.shoe\n",
      "Please give an adjective.big\n",
      "Please give an adjective.menu\n",
      "Please give a part of the body (plural).toes\n",
      "Please give a plural noun.pumpkins\n",
      "Please give a verb ending in 'ing'.writing\n",
      "Please give an adjective.fast\n",
      "Please give a part of the body.arm\n",
      "Please give an adjective.pink\n",
      "Please give an adjective.smelly\n",
      "Please give an adjective.round\n",
      "Please give a plural noun.forks\n",
      "Please give an adjective.wet\n"
     ]
    }
   ],
   "source": [
    "adverb = input(\"Please give an adverb.\")\n",
    "noun = input(\"Please give a noun.\")\n",
    "bodypart = input(\"Please give a part of the body (plural).\")\n",
    "bodypart2 = input(\"Please give a part of the body (plural).\")\n",
    "noun2 = input(\"Please give a noun.\")\n",
    "adjective = input(\"Please give an adjective.\")\n",
    "noun3 = input(\"Please give a noun.\")\n",
    "adjective2 = input(\"Please give an adjective.\")\n",
    "adjective3 = input(\"Please give an adjective.\")\n",
    "bodypart3 = input(\"Please give a part of the body (plural).\")\n",
    "pluralnoun = input(\"Please give a plural noun.\")\n",
    "verb = input(\"Please give a verb ending in 'ing'.\")\n",
    "adjective4 = input(\"Please give an adjective.\")\n",
    "bodypart4 = input(\"Please give a part of the body.\")\n",
    "adjective5 = input(\"Please give an adjective.\")\n",
    "adjective6 = input(\"Please give an adjective.\")\n",
    "adjective7 = input(\"Please give an adjective.\")\n",
    "pluralnoun2 = input(\"Please give a plural noun.\")\n",
    "adjective8 = input(\"Please give an adjective.\")"
   ]
  },
  {
   "cell_type": "code",
   "execution_count": 2,
   "metadata": {
    "collapsed": false
   },
   "outputs": [
    {
     "name": "stdout",
     "output_type": "stream",
     "text": [
      "Ever since he was quickly burned on the Mustafar chair system, losing his eyes and his ears, Darth Vader has been more machine than flower. And each day, he must don a/an green suit of armor in order to survive. First, Darth Vader must wear a black, leather shoe, that covers his entire big body. Next, he puts a long and menu cape around his neck and covers his toes with a pair of pumpkins. Finally, he must always have a/an writing mask over his face and a/an fast helment on top of his arm. If all that wasn't pink enough, Darth Vader can only remove his smelly gear in a/an round chamber filled with pressurized forks. And you thought it was wet getting dressed every morning!\n"
     ]
    }
   ],
   "source": [
    "print(\"Ever since he was %s burned on the Mustafar %s system, losing his %s and his %s, Darth Vader has been more machine than %s. And each day, he must don a/an %s suit of armor in order to survive. First, Darth Vader must wear a black, leather %s, that covers his entire %s body. Next, he puts a long and %s cape around his neck and covers his %s with a pair of %s. Finally, he must always have a/an %s mask over his face and a/an %s helment on top of his %s. If all that wasn't %s enough, Darth Vader can only remove his %s gear in a/an %s chamber filled with pressurized %s. And you thought it was %s getting dressed every morning!\" % (adverb, noun, bodypart, bodypart2, noun2, adjective, noun3, adjective2, adjective3, bodypart3, pluralnoun, verb, adjective4, bodypart4, adjective5, adjective6, adjective7, pluralnoun2, adjective8))"
   ]
  },
  {
   "cell_type": "code",
   "execution_count": null,
   "metadata": {
    "collapsed": true
   },
   "outputs": [],
   "source": []
  }
 ],
 "metadata": {
  "kernelspec": {
   "display_name": "Python 3",
   "language": "python",
   "name": "python3"
  },
  "language_info": {
   "codemirror_mode": {
    "name": "ipython",
    "version": 3
   },
   "file_extension": ".py",
   "mimetype": "text/x-python",
   "name": "python",
   "nbconvert_exporter": "python",
   "pygments_lexer": "ipython3",
   "version": "3.5.2"
  }
 },
 "nbformat": 4,
 "nbformat_minor": 0
}
