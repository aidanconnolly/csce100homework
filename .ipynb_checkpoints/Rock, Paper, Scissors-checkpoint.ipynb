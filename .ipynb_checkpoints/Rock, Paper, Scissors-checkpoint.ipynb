{
 "cells": [
  {
   "cell_type": "markdown",
   "metadata": {},
   "source": [
    "# Rock, Paper, Scissors\n",
    "\n",
    "The assignment:\n",
    ">I want you to write a simple Python script where the computer plays Rock, Paper\n",
    "Scissors against itself using random choices. You will need to define a function\n",
    "that makes a choice. You will need to define a function that determines a winner.\n",
    "And you'll need to play the game. Bonus points: How would you set it up to\n",
    "determine a winner of two out of three?\n",
    "\n",
    "First, import the necessary libraries"
   ]
  },
  {
   "cell_type": "code",
   "execution_count": 1,
   "metadata": {
    "collapsed": true
   },
   "outputs": [],
   "source": [
    "import random"
   ]
  },
  {
   "cell_type": "markdown",
   "metadata": {},
   "source": [
    "Create win variables to keep track of wins."
   ]
  },
  {
   "cell_type": "code",
   "execution_count": 2,
   "metadata": {
    "collapsed": true
   },
   "outputs": [],
   "source": [
    "p1wins = 0\n",
    "p2wins = 0"
   ]
  },
  {
   "cell_type": "markdown",
   "metadata": {},
   "source": [
    "Define the options a player can pick from."
   ]
  },
  {
   "cell_type": "code",
   "execution_count": 3,
   "metadata": {
    "collapsed": true
   },
   "outputs": [],
   "source": [
    "choices = [\"rock\", \"paper\",\"scissors\"]"
   ]
  },
  {
   "cell_type": "markdown",
   "metadata": {},
   "source": [
    "The `choice` function chooses a random choice from `choices`."
   ]
  },
  {
   "cell_type": "code",
   "execution_count": 4,
   "metadata": {
    "collapsed": true
   },
   "outputs": [],
   "source": [
    "def choice():\n",
    "    return random.choice(choices)"
   ]
  },
  {
   "cell_type": "markdown",
   "metadata": {},
   "source": [
    "The `winner` dictionary will be used later to determine which player won."
   ]
  },
  {
   "cell_type": "code",
   "execution_count": 5,
   "metadata": {
    "collapsed": true
   },
   "outputs": [],
   "source": [
    "winner = {\n",
    "    \"rock\": \"scissors\",\n",
    "    \"paper\": \"rock\",\n",
    "    \"scissors\": \"paper\"\n",
    "}"
   ]
  },
  {
   "cell_type": "markdown",
   "metadata": {},
   "source": [
    "The `result` function compares the players' choices and determines who won.  \n",
    "If the choices are the same, it's a tie.  \n",
    "If the player2's choice corresponds as the value to player1's choice in the `winner` dictionary, then player1 wins. Otherwise, player2 wins.  \n",
    "Then, the win variables are updated and returned for another round."
   ]
  },
  {
   "cell_type": "code",
   "execution_count": 6,
   "metadata": {
    "collapsed": true
   },
   "outputs": [],
   "source": [
    "def result(player1, player2, p1wins, p2wins):\n",
    "    if player1 == player2:\n",
    "        print(\"Tie!\")\n",
    "        print(\"Player 1: %s, Player 2: %s\\n\" % (p1wins, p2wins))\n",
    "        return p1wins, p2wins\n",
    "    elif winner[player1] == player2:\n",
    "        print(\"Player 1 wins!\")\n",
    "        p1wins += 1\n",
    "        print(\"Player 1: %s, Player 2: %s\\n\" % (p1wins, p2wins))\n",
    "        return p1wins, p2wins\n",
    "    else:\n",
    "        print(\"Player 2 wins!\")\n",
    "        p2wins += 1\n",
    "        print(\"Player 1: %s, Player 2: %s\\n\" % (p1wins, p2wins))\n",
    "        return p1wins, p2wins"
   ]
  },
  {
   "cell_type": "markdown",
   "metadata": {},
   "source": [
    "This while loop runs while neither player has two wins. This simulates a \"best two out of three\" match.  \n",
    "First, the `choice` function is run twice and the returned values are saved as the player choices. Those are printed to the screen. Then, they are sent into the `result` function, along with the win variables.  \n",
    "Once a player has two wins, the loop breaks and the \"Game over!\" message is printed."
   ]
  },
  {
   "cell_type": "code",
   "execution_count": 7,
   "metadata": {
    "collapsed": false
   },
   "outputs": [
    {
     "name": "stdout",
     "output_type": "stream",
     "text": [
      "Player 1 picked rock\n",
      "Player 2 picked rock\n",
      "Tie!\n",
      "Player 1: 0, Player 2: 0\n",
      "\n",
      "Player 1 picked rock\n",
      "Player 2 picked rock\n",
      "Tie!\n",
      "Player 1: 0, Player 2: 0\n",
      "\n",
      "Player 1 picked scissors\n",
      "Player 2 picked paper\n",
      "Player 1 wins!\n",
      "Player 1: 1, Player 2: 0\n",
      "\n",
      "Player 1 picked rock\n",
      "Player 2 picked rock\n",
      "Tie!\n",
      "Player 1: 1, Player 2: 0\n",
      "\n",
      "Player 1 picked paper\n",
      "Player 2 picked scissors\n",
      "Player 2 wins!\n",
      "Player 1: 1, Player 2: 1\n",
      "\n",
      "Player 1 picked paper\n",
      "Player 2 picked rock\n",
      "Player 1 wins!\n",
      "Player 1: 2, Player 2: 1\n",
      "\n",
      "Game over!\n"
     ]
    }
   ],
   "source": [
    "while p1wins != 2 and p2wins != 2: \n",
    "    player1 = choice()\n",
    "    player2 = choice()\n",
    "    print(\"Player 1 picked\", player1)\n",
    "    print(\"Player 2 picked\", player2)\n",
    "    p1wins, p2wins = result(player1, player2, p1wins, p2wins)\n",
    "print(\"Game over!\")"
   ]
  }
 ],
 "metadata": {
  "kernelspec": {
   "display_name": "Python 3",
   "language": "python",
   "name": "python3"
  },
  "language_info": {
   "codemirror_mode": {
    "name": "ipython",
    "version": 3
   },
   "file_extension": ".py",
   "mimetype": "text/x-python",
   "name": "python",
   "nbconvert_exporter": "python",
   "pygments_lexer": "ipython3",
   "version": "3.5.2"
  }
 },
 "nbformat": 4,
 "nbformat_minor": 0
}
