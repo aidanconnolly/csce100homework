{
 "cells": [
  {
   "cell_type": "markdown",
   "metadata": {},
   "source": [
    "# Wardrobe Bot\n",
    "\n",
    "The assignment:\n",
    "> You are going to create an algorithm that accepts two inputs – today’s temperature, and a forecast – and produces two outputs.  \n",
    "First: Given the temperature, what should I wear today?  \n",
    "Second: Given the forecast, what else should I wear? Raincoat? Boots? Sunglasses?  \n",
    "Your wardrobe bot must have at least 5 different clothing themes to choose from (like jeans and a t-shirt, hoodie, etc.) and at least 3 forecast options.  \n",
    "When I run your code, it must ask me what the temp is, the forecast, and tell me what you would wear. If I enter gibberish, it should catch it."
   ]
  },
  {
   "cell_type": "markdown",
   "metadata": {},
   "source": [
    "I broke this assignment up into two functions for clarity. First, the `temperature` function.\n",
    "\n",
    "A while loop combined with `try...except...` makes sure the user inputs proper information.\n",
    "\n",
    "Once the user inputs an integer, the function compares it to a group of cases and prints a wardrobe choice. "
   ]
  },
  {
   "cell_type": "code",
   "execution_count": 1,
   "metadata": {
    "collapsed": true
   },
   "outputs": [],
   "source": [
    "def temperature():\n",
    "    while True:\n",
    "        try:\n",
    "            temp = int(input(\"Please enter the temperature as an integer: \"))\n",
    "            break\n",
    "        except:\n",
    "            print(\"That was not a valid integer.  Try again.\")\n",
    "\n",
    "    if temp < 32:\n",
    "        print(\"Prepare for the worst. Bring out the snowsuit.\")\n",
    "    elif 32 <= temp < 60:\n",
    "        print(\"It's pretty chilly today. Wear a coat, hat and gloves today.\")\n",
    "    elif 60 <= temp < 80:\n",
    "        print(\"The weather is mild today. Wear a light jacket.\")\n",
    "    elif 80 <= temp < 100:\n",
    "        print(\"It's a hot one today. Wear a t-shirt. You can even break out the shorts!\")\n",
    "    elif 100 <= temp:\n",
    "        print(\"Don't even go outside today. Stay in your house and turn the air conditioning on.\")\n",
    "\n"
   ]
  },
  {
   "cell_type": "markdown",
   "metadata": {},
   "source": [
    "The `forecast` function asks the user to pick the forecast from a list of options.  \n",
    "\n",
    "If the input matches one of the options, it returns an acessory suggestion. If it doesn't match, it asks for a different choice."
   ]
  },
  {
   "cell_type": "code",
   "execution_count": 2,
   "metadata": {
    "collapsed": true
   },
   "outputs": [],
   "source": [
    "def forecast():\n",
    "    while True:\n",
    "        fc = input(\"Please enter the forecast: sun, rain or snow.\")\n",
    "        if fc == \"sun\":\n",
    "            print(\"Keep your sunglasses handy.\")\n",
    "            break\n",
    "        elif fc == \"rain\":\n",
    "            print(\"Bring an umbrella along, too.\")\n",
    "            break\n",
    "        elif fc == \"snow\":\n",
    "            print(\"Don't forget your boots!\")\n",
    "            break\n",
    "        else:\n",
    "            print(\"Please choose one of the options.\")"
   ]
  },
  {
   "cell_type": "markdown",
   "metadata": {},
   "source": [
    "Finally, the functions are called."
   ]
  },
  {
   "cell_type": "code",
   "execution_count": 3,
   "metadata": {
    "collapsed": false
   },
   "outputs": [
    {
     "name": "stdout",
     "output_type": "stream",
     "text": [
      "Please enter the temperature as an integer: 64\n",
      "The weather is mild today. Wear a light jacket.\n",
      "Please enter the forecast: sun, rain or snow.sun\n",
      "Keep your sunglasses handy.\n"
     ]
    }
   ],
   "source": [
    "temperature()\n",
    "forecast()"
   ]
  }
 ],
 "metadata": {
  "kernelspec": {
   "display_name": "Python 3",
   "language": "python",
   "name": "python3"
  },
  "language_info": {
   "codemirror_mode": {
    "name": "ipython",
    "version": 3
   },
   "file_extension": ".py",
   "mimetype": "text/x-python",
   "name": "python",
   "nbconvert_exporter": "python",
   "pygments_lexer": "ipython3",
   "version": "3.5.2"
  }
 },
 "nbformat": 4,
 "nbformat_minor": 0
}
