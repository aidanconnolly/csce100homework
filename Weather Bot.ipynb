{
 "cells": [
  {
   "cell_type": "code",
   "execution_count": 12,
   "metadata": {
    "collapsed": false
   },
   "outputs": [
    {
     "name": "stdout",
     "output_type": "stream",
     "text": [
      "Please enter the temperature: 100\n",
      "Don't even go outside today. Stay in your house and be naked.\n",
      "Please enter the forecast: sun, rain or snow.rain\n",
      "Bring an umbrella along, too.\n"
     ]
    }
   ],
   "source": [
    "def temperature():\n",
    "    while True:\n",
    "        try:\n",
    "            temp = int(input(\"Please enter the temperature: \"))\n",
    "            break\n",
    "        except:\n",
    "            print(\"Oops!  That was not a valid number.  Try again.\")\n",
    "\n",
    "    if temp < 32:\n",
    "        print(\"Prepare for the worst. Bring out the snowsuit.\")\n",
    "    elif 32 <= temp < 60:\n",
    "        print(\"It's pretty chilly today. Wear a coat, hat and gloves today.\")\n",
    "    elif 60 <= temp < 80:\n",
    "        print(\"The weather is mild today. Wear a light jacket.\")\n",
    "    elif 80 <= temp < 100:\n",
    "        print(\"It's a hot one today. Wear a t-shirt. You can even break out the shorts!\")\n",
    "    elif 100 <= temp:\n",
    "        print(\"Don't even go outside today. Stay in your house and be naked.\")\n",
    "\n",
    "def forecast():\n",
    "    while True:\n",
    "        fc = input(\"Please enter the forecast: sun, rain or snow.\")\n",
    "        if fc == \"sun\":\n",
    "            print(\"Keep your sunglasses handy.\")\n",
    "            break\n",
    "        elif fc == \"rain\":\n",
    "            print(\"Bring an umbrella along, too.\")\n",
    "            break\n",
    "        elif fc == \"snow\":\n",
    "            print(\"Don't forget your boots!\")\n",
    "            break\n",
    "        else:\n",
    "            print(\"Please choose one of the options.\")\n",
    "\n",
    "temperature()\n",
    "forecast()\n"
   ]
  },
  {
   "cell_type": "code",
   "execution_count": null,
   "metadata": {
    "collapsed": true
   },
   "outputs": [],
   "source": []
  }
 ],
 "metadata": {
  "kernelspec": {
   "display_name": "Python 3",
   "language": "python",
   "name": "python3"
  },
  "language_info": {
   "codemirror_mode": {
    "name": "ipython",
    "version": 3
   },
   "file_extension": ".py",
   "mimetype": "text/x-python",
   "name": "python",
   "nbconvert_exporter": "python",
   "pygments_lexer": "ipython3",
   "version": "3.5.2"
  }
 },
 "nbformat": 4,
 "nbformat_minor": 0
}
